{
 "cells": [
  {
   "metadata": {},
   "cell_type": "markdown",
   "source": [
    "# **Analysis of Twitch Social Network**\n",
    "\n",
    "## **Introduction**\n",
    "\n",
    "This project focuses on analyzing the social network of Twitch using the dataset provided by SNAP (Stanford Network Analysis Project). Twitch is a live-streaming platform, primarily for gaming, hosting a vast community of streamers and viewers. The Twitch social network is represented as an undirected graph, where nodes are users, and edges represent mutual friendships. This project aims to study the interaction dynamics, community structures, and user behaviors within the network.\n",
    "\n",
    "---\n",
    "\n",
    "## **Project Objectives**\n",
    "\n",
    "### 1. **User Behavior Analysis**\n",
    "I will examine the interactions between users on the platform by analyzing metrics such as:\n",
    "- Node degree (number of connections).\n",
    "- Centrality (relative importance of a node in the network).\n",
    "- Distribution of connections and identification of influential users.\n",
    "\n",
    "### 2. **Community Detection**\n",
    "I will apply community detection algorithms to identify groups of users that are strongly connected. This will help to understand how communities form based on shared characteristics, such as language, preferred games, or geographical location.\n",
    "\n",
    "### 3. **Explicit Content Analysis**\n",
    "I will predict the likelihood of a streamer using explicit language based on their connections and attributes. This will be achieved using supervised machine learning techniques, leveraging node attributes and graph connections.\n",
    "\n",
    "---\n",
    "\n",
    "## **Methodology**\n",
    "\n",
    "The project will be developed following these steps:\n",
    "1. **Data Loading and Preprocessing**: Importing the edge list and node features, building the graph, and cleaning the data.\n",
    "2. **Exploratory Network Analysis**: Studying the main characteristics of the network, such as the number of nodes, edges, and basic metrics.\n",
    "3. **Experiments**:\n",
    "   - User behavior analysis.\n",
    "   - Community detection using clustering algorithms.\n",
    "   - Explicit content prediction through classification.\n",
    "4. **Evaluation**: Evaluating results and visualizing the network and analyses.\n",
    "\n",
    "---\n",
    "\n",
    "## **Tools Used**\n",
    "- **Python**: The primary programming language.\n",
    "- **NetworkX**: For graph manipulation and analysis.\n",
    "- **Scikit-learn**: For implementing machine learning models.\n",
    "- **Matplotlib/Seaborn**: For data and result visualization.\n",
    "- **Gephi**: For interactive network visualization.\n",
    "\n",
    "\n",
    "---\n",
    "\n"
   ],
   "id": "8de67a675fbd3797"
  },
  {
   "metadata": {},
   "cell_type": "markdown",
   "source": "## **1. Data Loading and Preprocessing**\n",
   "id": "c1bd553006335b59"
  },
  {
   "metadata": {
    "ExecuteTime": {
     "end_time": "2024-12-09T16:24:02.571445Z",
     "start_time": "2024-12-09T16:24:02.560910Z"
    }
   },
   "cell_type": "code",
   "source": [
    "import networkx as nx\n",
    "import pandas as pd\n",
    "import matplotlib.pyplot as plt\n",
    "import random\n",
    "from collections import defaultdict"
   ],
   "id": "fbb88a456a1a949f",
   "outputs": [],
   "execution_count": 73
  },
  {
   "metadata": {},
   "cell_type": "markdown",
   "source": [
    "### 1. Load the dataset, including:\n",
    "   - Edge list: representing user connections on Twitch.\n",
    "   - Node features: describing user attributes (e.g., language, streaming behavior)."
   ],
   "id": "358e1275f6362187"
  },
  {
   "metadata": {
    "ExecuteTime": {
     "end_time": "2024-12-09T16:24:04.706068Z",
     "start_time": "2024-12-09T16:24:03.804672Z"
    }
   },
   "cell_type": "code",
   "source": [
    "# Load the edge list\n",
    "edgelist = pd.read_csv('large_twitch_edges.csv', )\n",
    "# Display the first few rows to understand the structure\n",
    "edgelist.head()"
   ],
   "id": "61d56d65fa2b4dbe",
   "outputs": [
    {
     "data": {
      "text/plain": [
       "   numeric_id_1  numeric_id_2\n",
       "0         98343        141493\n",
       "1         98343         58736\n",
       "2         98343        140703\n",
       "3         98343        151401\n",
       "4         98343        157118"
      ],
      "text/html": [
       "<div>\n",
       "<style scoped>\n",
       "    .dataframe tbody tr th:only-of-type {\n",
       "        vertical-align: middle;\n",
       "    }\n",
       "\n",
       "    .dataframe tbody tr th {\n",
       "        vertical-align: top;\n",
       "    }\n",
       "\n",
       "    .dataframe thead th {\n",
       "        text-align: right;\n",
       "    }\n",
       "</style>\n",
       "<table border=\"1\" class=\"dataframe\">\n",
       "  <thead>\n",
       "    <tr style=\"text-align: right;\">\n",
       "      <th></th>\n",
       "      <th>numeric_id_1</th>\n",
       "      <th>numeric_id_2</th>\n",
       "    </tr>\n",
       "  </thead>\n",
       "  <tbody>\n",
       "    <tr>\n",
       "      <th>0</th>\n",
       "      <td>98343</td>\n",
       "      <td>141493</td>\n",
       "    </tr>\n",
       "    <tr>\n",
       "      <th>1</th>\n",
       "      <td>98343</td>\n",
       "      <td>58736</td>\n",
       "    </tr>\n",
       "    <tr>\n",
       "      <th>2</th>\n",
       "      <td>98343</td>\n",
       "      <td>140703</td>\n",
       "    </tr>\n",
       "    <tr>\n",
       "      <th>3</th>\n",
       "      <td>98343</td>\n",
       "      <td>151401</td>\n",
       "    </tr>\n",
       "    <tr>\n",
       "      <th>4</th>\n",
       "      <td>98343</td>\n",
       "      <td>157118</td>\n",
       "    </tr>\n",
       "  </tbody>\n",
       "</table>\n",
       "</div>"
      ]
     },
     "execution_count": 74,
     "metadata": {},
     "output_type": "execute_result"
    }
   ],
   "execution_count": 74
  },
  {
   "metadata": {
    "ExecuteTime": {
     "end_time": "2024-12-09T16:24:06.476571Z",
     "start_time": "2024-12-09T16:24:06.305355Z"
    }
   },
   "cell_type": "code",
   "source": [
    "# Load CSV file with node features\n",
    "node_features = pd.read_csv(\"large_twitch_features.csv\", index_col=5)\n",
    "# Display the first few rows to understand the structure\n",
    "node_features.head()"
   ],
   "id": "9e94727810e4092",
   "outputs": [
    {
     "data": {
      "text/plain": [
       "             views  mature  life_time  created_at  updated_at  dead_account  \\\n",
       "numeric_id                                                                    \n",
       "0             7879       1        969  2016-02-16  2018-10-12             0   \n",
       "1              500       0       2699  2011-05-19  2018-10-08             0   \n",
       "2           382502       1       3149  2010-02-27  2018-10-12             0   \n",
       "3              386       0       1344  2015-01-26  2018-10-01             0   \n",
       "4             2486       0       1784  2013-11-22  2018-10-11             0   \n",
       "\n",
       "           language  affiliate  \n",
       "numeric_id                      \n",
       "0                EN          1  \n",
       "1                EN          0  \n",
       "2                EN          1  \n",
       "3                EN          0  \n",
       "4                EN          0  "
      ],
      "text/html": [
       "<div>\n",
       "<style scoped>\n",
       "    .dataframe tbody tr th:only-of-type {\n",
       "        vertical-align: middle;\n",
       "    }\n",
       "\n",
       "    .dataframe tbody tr th {\n",
       "        vertical-align: top;\n",
       "    }\n",
       "\n",
       "    .dataframe thead th {\n",
       "        text-align: right;\n",
       "    }\n",
       "</style>\n",
       "<table border=\"1\" class=\"dataframe\">\n",
       "  <thead>\n",
       "    <tr style=\"text-align: right;\">\n",
       "      <th></th>\n",
       "      <th>views</th>\n",
       "      <th>mature</th>\n",
       "      <th>life_time</th>\n",
       "      <th>created_at</th>\n",
       "      <th>updated_at</th>\n",
       "      <th>dead_account</th>\n",
       "      <th>language</th>\n",
       "      <th>affiliate</th>\n",
       "    </tr>\n",
       "    <tr>\n",
       "      <th>numeric_id</th>\n",
       "      <th></th>\n",
       "      <th></th>\n",
       "      <th></th>\n",
       "      <th></th>\n",
       "      <th></th>\n",
       "      <th></th>\n",
       "      <th></th>\n",
       "      <th></th>\n",
       "    </tr>\n",
       "  </thead>\n",
       "  <tbody>\n",
       "    <tr>\n",
       "      <th>0</th>\n",
       "      <td>7879</td>\n",
       "      <td>1</td>\n",
       "      <td>969</td>\n",
       "      <td>2016-02-16</td>\n",
       "      <td>2018-10-12</td>\n",
       "      <td>0</td>\n",
       "      <td>EN</td>\n",
       "      <td>1</td>\n",
       "    </tr>\n",
       "    <tr>\n",
       "      <th>1</th>\n",
       "      <td>500</td>\n",
       "      <td>0</td>\n",
       "      <td>2699</td>\n",
       "      <td>2011-05-19</td>\n",
       "      <td>2018-10-08</td>\n",
       "      <td>0</td>\n",
       "      <td>EN</td>\n",
       "      <td>0</td>\n",
       "    </tr>\n",
       "    <tr>\n",
       "      <th>2</th>\n",
       "      <td>382502</td>\n",
       "      <td>1</td>\n",
       "      <td>3149</td>\n",
       "      <td>2010-02-27</td>\n",
       "      <td>2018-10-12</td>\n",
       "      <td>0</td>\n",
       "      <td>EN</td>\n",
       "      <td>1</td>\n",
       "    </tr>\n",
       "    <tr>\n",
       "      <th>3</th>\n",
       "      <td>386</td>\n",
       "      <td>0</td>\n",
       "      <td>1344</td>\n",
       "      <td>2015-01-26</td>\n",
       "      <td>2018-10-01</td>\n",
       "      <td>0</td>\n",
       "      <td>EN</td>\n",
       "      <td>0</td>\n",
       "    </tr>\n",
       "    <tr>\n",
       "      <th>4</th>\n",
       "      <td>2486</td>\n",
       "      <td>0</td>\n",
       "      <td>1784</td>\n",
       "      <td>2013-11-22</td>\n",
       "      <td>2018-10-11</td>\n",
       "      <td>0</td>\n",
       "      <td>EN</td>\n",
       "      <td>0</td>\n",
       "    </tr>\n",
       "  </tbody>\n",
       "</table>\n",
       "</div>"
      ]
     },
     "execution_count": 75,
     "metadata": {},
     "output_type": "execute_result"
    }
   ],
   "execution_count": 75
  },
  {
   "metadata": {},
   "cell_type": "markdown",
   "source": [
    "At first sight, I note that:\n",
    "- **Edge List**: Represents the connections between Twitch users, where each row is a link between two users (`numeric_id_1` and `numeric_id_2`).\n",
    "- **Node Features**: Contains attributes for each user (node) such as:\n",
    "  - `views`: Total number of views a streamer has.\n",
    "  - `mature`: Indicates if the streamer produces mature content (1 for yes, 0 for no).\n",
    "  - `life_time`: Lifetime of the user's account (in days).\n",
    "  - `created_at` and `updated_at`: Account creation and last update dates.\n",
    "  - `dead_account`: Indicates if the account is inactive.\n",
    "  - `language`: The main language used by the user.\n",
    "  - `affiliate`: Indicates if the user is a Twitch affiliate (1 for yes, 0 for no)."
   ],
   "id": "a6240dbf9dbaada9"
  },
  {
   "metadata": {},
   "cell_type": "markdown",
   "source": [
    "### 2. Clean and preprocess the data:\n",
    "   - Handle missing values and duplicates."
   ],
   "id": "f593114332904dd6"
  },
  {
   "metadata": {
    "ExecuteTime": {
     "end_time": "2024-12-09T16:24:10.903740Z",
     "start_time": "2024-12-09T16:24:10.006114Z"
    }
   },
   "cell_type": "code",
   "source": [
    "# Check for null values and duplicates in the edge list\n",
    "print(\"### Edge List ###\")\n",
    "print(f\"Total rows in edge list: {edgelist.shape[0]}\")\n",
    "\n",
    "# Check for null values\n",
    "null_values_edges = edgelist.isnull().sum()\n",
    "print(\"Null values in edge list:\")\n",
    "print(null_values_edges)\n",
    "\n",
    "# Check for duplicates\n",
    "duplicates_edges = edgelist.duplicated().sum()\n",
    "print(f\"Duplicate rows in edge list: {duplicates_edges}\")\n",
    "\n",
    "print(\"\\n\")\n",
    "\n",
    "# Check for null values and duplicates in the node attributes\n",
    "print(\"### Node Attributes ###\")\n",
    "print(f\"Total rows in node attributes: {node_features.shape[0]}\")\n",
    "\n",
    "# Check for null values\n",
    "null_values_nodes = node_features.isnull().sum()\n",
    "print(\"Null values in node attributes:\")\n",
    "print(null_values_nodes)"
   ],
   "id": "38c42297b21b3034",
   "outputs": [
    {
     "name": "stdout",
     "output_type": "stream",
     "text": [
      "### Edge List ###\n",
      "Total rows in edge list: 6797557\n",
      "Null values in edge list:\n",
      "numeric_id_1    0\n",
      "numeric_id_2    0\n",
      "dtype: int64\n",
      "Duplicate rows in edge list: 0\n",
      "\n",
      "\n",
      "### Node Attributes ###\n",
      "Total rows in node attributes: 168114\n",
      "Null values in node attributes:\n",
      "views           0\n",
      "mature          0\n",
      "life_time       0\n",
      "created_at      0\n",
      "updated_at      0\n",
      "dead_account    0\n",
      "language        0\n",
      "affiliate       0\n",
      "dtype: int64\n"
     ]
    }
   ],
   "execution_count": 76
  },
  {
   "metadata": {},
   "cell_type": "markdown",
   "source": [
    "- **Edge List**:\n",
    "  - No null values found in `numeric_id_1` or `numeric_id_2`.\n",
    "  - No duplicate rows detected.\n",
    "\n",
    "- **Node Attributes**:\n",
    "  - No null values in any columns (`views`, `mature`, `life_time`, etc.).\n",
    "  - No duplicate rows detected.\n",
    "\n",
    "Both datasets are clean and ready for the next step: building the graph using the edge list and enriching it with node attributes."
   ],
   "id": "4a5e28b46caa4e33"
  },
  {
   "metadata": {},
   "cell_type": "markdown",
   "source": [
    "### 3. Build the graph:\n",
    "   - Use NetworkX to create the graph from the edge list.\n",
    "   - Add node features to the graph."
   ],
   "id": "b615ee852b91af0"
  },
  {
   "metadata": {
    "ExecuteTime": {
     "end_time": "2024-12-09T16:24:26.407477Z",
     "start_time": "2024-12-09T16:24:13.896967Z"
    }
   },
   "cell_type": "code",
   "source": [
    "OG = nx.from_pandas_edgelist(edgelist, source='numeric_id_1', target='numeric_id_2', create_using=nx.Graph())\n",
    "print(OG)\n",
    "print('Is the graph directed ?',OG.is_directed())"
   ],
   "id": "f839eb8b59e25154",
   "outputs": [
    {
     "name": "stdout",
     "output_type": "stream",
     "text": [
      "Graph with 168114 nodes and 6797557 edges\n",
      "Is the graph directed ? False\n"
     ]
    }
   ],
   "execution_count": 77
  },
  {
   "metadata": {},
   "cell_type": "markdown",
   "source": [
    "I built an **undirected graph** where:\n",
    "* Nodes are Twitch streamers.\n",
    "* Edges are mutual friendships between Twitch streamers.\n"
   ],
   "id": "bc37beca7971799b"
  },
  {
   "metadata": {
    "ExecuteTime": {
     "end_time": "2024-12-09T16:25:24.380983Z",
     "start_time": "2024-12-09T16:25:23.380280Z"
    }
   },
   "cell_type": "code",
   "source": [
    "# Add node features to the graph\n",
    "nx.set_node_attributes(OG, node_features.to_dict(orient='index'))\n",
    "\n",
    "# Check correctness of this operation\n",
    "example_node = list(OG.nodes)[0]\n",
    "print(f\"Attributes for node {example_node}: {OG.nodes[example_node]}\")"
   ],
   "id": "ce9fd67e3887418d",
   "outputs": [
    {
     "name": "stdout",
     "output_type": "stream",
     "text": [
      "Attributes for node 98343: {'views': 282, 'mature': 0, 'life_time': 2086, 'created_at': '2012-12-27', 'updated_at': '2018-09-13', 'dead_account': 0, 'language': 'EN', 'affiliate': 0}\n"
     ]
    }
   ],
   "execution_count": 78
  },
  {
   "metadata": {},
   "cell_type": "markdown",
   "source": "Another important step is to check for **self loops** and removing them:",
   "id": "58b03e5c5dc6297f"
  },
  {
   "metadata": {
    "ExecuteTime": {
     "end_time": "2024-12-09T16:25:31.258816Z",
     "start_time": "2024-12-09T16:25:30.202327Z"
    }
   },
   "cell_type": "code",
   "source": [
    "OG.remove_edges_from(nx.selfloop_edges(OG))\n",
    "print(OG)"
   ],
   "id": "48a3191d499f9e91",
   "outputs": [
    {
     "name": "stdout",
     "output_type": "stream",
     "text": [
      "Graph with 168114 nodes and 6797557 edges\n"
     ]
    }
   ],
   "execution_count": 79
  },
  {
   "metadata": {},
   "cell_type": "markdown",
   "source": [
    "As we can see from the output, no edges have been removed.\n",
    "\n",
    "\n",
    "For the purposes of this project and to facilitate analysis, I will take into account only a part of the network of Twitch streamers.\n",
    "At first, I filter the nodes with `language` attribute and count them :\n"
   ],
   "id": "803a66ffc69503f0"
  },
  {
   "metadata": {
    "ExecuteTime": {
     "end_time": "2024-12-09T16:25:35.388622Z",
     "start_time": "2024-12-09T16:25:34.993193Z"
    }
   },
   "cell_type": "code",
   "source": [
    "language_counts = defaultdict(int)\n",
    "\n",
    "# Iteration through nodes\n",
    "for node, attr in OG.nodes(data=True):\n",
    "    language = attr.get('language', 'Unknown')\n",
    "    language_counts[language] += 1\n",
    "\n",
    "# Print \n",
    "for language, count in language_counts.items():\n",
    "    print(f\"Language: {language}, Count: {count}\")"
   ],
   "id": "45f6ec7c3260b2bf",
   "outputs": [
    {
     "name": "stdout",
     "output_type": "stream",
     "text": [
      "Language: EN, Count: 124411\n",
      "Language: OTHER, Count: 1429\n",
      "Language: ZH, Count: 2828\n",
      "Language: ES, Count: 5699\n",
      "Language: SV, Count: 854\n",
      "Language: DE, Count: 9428\n",
      "Language: RU, Count: 4821\n",
      "Language: CS, Count: 576\n",
      "Language: DA, Count: 503\n",
      "Language: KO, Count: 1215\n",
      "Language: IT, Count: 1230\n",
      "Language: NL, Count: 701\n",
      "Language: PT, Count: 2536\n",
      "Language: NO, Count: 330\n",
      "Language: FI, Count: 652\n",
      "Language: FR, Count: 6799\n",
      "Language: TR, Count: 772\n",
      "Language: JA, Count: 1327\n",
      "Language: HU, Count: 427\n",
      "Language: TH, Count: 632\n",
      "Language: PL, Count: 944\n"
     ]
    }
   ],
   "execution_count": 80
  },
  {
   "metadata": {},
   "cell_type": "markdown",
   "source": "**French** network has a medium size, so I will use it as starting point, creating an independent subgraph (`G`) from the original one (`OG`)",
   "id": "3f4d216a052029c1"
  },
  {
   "metadata": {
    "ExecuteTime": {
     "end_time": "2024-12-09T16:26:10.850922Z",
     "start_time": "2024-12-09T16:26:09.600190Z"
    }
   },
   "cell_type": "code",
   "source": [
    "# Filter nodes with attribute 'language' = 'FR'\n",
    "nodes_with_fr = [n for n, attr in OG.nodes(data=True) if attr.get('language') == 'FR']\n",
    "\n",
    "# Create independent subgraph\n",
    "G = OG.subgraph(nodes_with_fr).copy()\n",
    "\n",
    "print(G)\n",
    "print(f'Is the graph directed?', G.is_directed())"
   ],
   "id": "91a9f5066474e24e",
   "outputs": [
    {
     "name": "stdout",
     "output_type": "stream",
     "text": [
      "Graph with 6799 nodes and 123644 edges\n",
      "Is the graph directed? False\n"
     ]
    }
   ],
   "execution_count": 82
  },
  {
   "metadata": {
    "ExecuteTime": {
     "end_time": "2024-12-09T16:26:15.214850Z",
     "start_time": "2024-12-09T16:26:15.192697Z"
    }
   },
   "cell_type": "code",
   "source": [
    "example_node = list(G.nodes)[0]\n",
    "print(f\"Attributes for node {example_node}: {G.nodes[example_node]}\")"
   ],
   "id": "43c962932060e7c6",
   "outputs": [
    {
     "name": "stdout",
     "output_type": "stream",
     "text": [
      "Attributes for node 32768: {'views': 1183, 'mature': 1, 'life_time': 280, 'created_at': '2018-01-04', 'updated_at': '2018-10-11', 'dead_account': 0, 'language': 'FR', 'affiliate': 1}\n"
     ]
    }
   ],
   "execution_count": 83
  },
  {
   "metadata": {},
   "cell_type": "markdown",
   "source": [
    "### 4. Save the cleaned data for later use.\n",
    "\n",
    "In this section, I will save the Graph in a format compatible with Gephi, for visualisation."
   ],
   "id": "5e120599217f5b0a"
  },
  {
   "metadata": {
    "ExecuteTime": {
     "end_time": "2024-12-09T16:26:37.710915Z",
     "start_time": "2024-12-09T16:26:19.219110Z"
    }
   },
   "cell_type": "code",
   "source": "nx.write_graphml(G, \"twitch_networkFR.graphml\")",
   "id": "f953b6c55a30ad41",
   "outputs": [],
   "execution_count": 84
  },
  {
   "metadata": {},
   "cell_type": "markdown",
   "source": [
    "### 5. Network Visualisation\n",
    "\n",
    "\n",
    "The visualisation below is elaborated with Gephi. \n",
    "\n",
    "I used ForceAtlas2 and coloured nodes with green (affiliated streamers) and red (not affiliated streamers). \n",
    "\n",
    "\n",
    "![vis1](vis1.png)"
   ],
   "id": "103e1d9cc0b68229"
  },
  {
   "metadata": {},
   "cell_type": "markdown",
   "source": [
    "This ForceAtlas2 visualization of the network reveals some key features of the graph:\n",
    "\n",
    "1. **Clustering**:\n",
    "    \n",
    "   There is a **central cluster** that contains nodes that are highly connected, likely representing influential or well-integrated streamers within the network. The **peripheral nodes** are less connected and likely represent either new streamers or those with minimal interaction in the network. We can see that the majority of peripheral nodes are not affiliated streamers, meaning that nodes that are less connected / important aren't in collaboration with the Platform.\n",
    "\n",
    "2. **Community Detection**:\n",
    "\n",
    "   An important point to explore is if there are distinct communities within the network, and how affiliation and other attributes correlate with these groups. At first sight, we can see a big central cluster, but maybe this can be divided in more communities, maybe based on type of content or seniority.\n",
    "\n",
    "3. **Role of Peripheral Nodes**:\n",
    "\n",
    "   What characterizes the streamers in the periphery? Are they newcomers, or do they belong to smaller, isolated clusters?\n"
   ],
   "id": "6bd9d8a61eb31a8e"
  },
  {
   "metadata": {
    "ExecuteTime": {
     "end_time": "2024-12-09T16:29:13.126934Z",
     "start_time": "2024-12-09T16:29:13.074616Z"
    }
   },
   "cell_type": "code",
   "source": [
    "# Calcola il degree per ogni nodo del grafo (considera la somma di entrante e uscente se il grafo è orientato)\n",
    "degrees = [degree for _, degree in G.degree()]\n",
    "\n",
    "# Calcola il grado minimo, massimo e medio\n",
    "min_degree = min(degrees)\n",
    "max_degree = max(degrees)\n",
    "avg_degree = sum(degrees) / len(degrees)\n",
    "\n",
    "# Stampa i risultati\n",
    "print(f\"Minimum Degree: {min_degree}\")\n",
    "print(f\"Maximum Degree: {max_degree}\")\n",
    "print(f\"Average Degree: {avg_degree:.2f}\")"
   ],
   "id": "c1cad0cd32e3e089",
   "outputs": [
    {
     "name": "stdout",
     "output_type": "stream",
     "text": [
      "Minimum Degree: 0\n",
      "Maximum Degree: 2081\n",
      "Average Degree: 36.37\n"
     ]
    }
   ],
   "execution_count": 85
  }
 ],
 "metadata": {
  "kernelspec": {
   "display_name": "Python 3",
   "language": "python",
   "name": "python3"
  },
  "language_info": {
   "codemirror_mode": {
    "name": "ipython",
    "version": 2
   },
   "file_extension": ".py",
   "mimetype": "text/x-python",
   "name": "python",
   "nbconvert_exporter": "python",
   "pygments_lexer": "ipython2",
   "version": "2.7.6"
  }
 },
 "nbformat": 4,
 "nbformat_minor": 5
}
