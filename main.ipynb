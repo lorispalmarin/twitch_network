{
 "cells": [
  {
   "metadata": {},
   "cell_type": "markdown",
   "source": [
    "# TWITCH GAMERS NETWORK\n",
    "Loris Palmarin (32349A)"
   ],
   "id": "6f086afd936e8846"
  },
  {
   "metadata": {},
   "cell_type": "markdown",
   "source": "Importing packages needed:",
   "id": "60af38cdeac48059"
  },
  {
   "metadata": {
    "ExecuteTime": {
     "end_time": "2024-11-27T11:24:57.117439Z",
     "start_time": "2024-11-27T11:24:44.965037Z"
    }
   },
   "cell_type": "code",
   "source": [
    "import networkx as nx\n",
    "import pandas as pd\n",
    "import numpy as np\n",
    "from pandas import isnull\n",
    "from pandas.io.pytables import dropna_doc\n",
    "from sklearn.preprocessing import StandardScaler"
   ],
   "id": "29346dccf83ecb33",
   "outputs": [],
   "execution_count": 2
  },
  {
   "metadata": {},
   "cell_type": "markdown",
   "source": "## Preprocessing",
   "id": "83d01daa74d7a914"
  },
  {
   "cell_type": "code",
   "id": "initial_id",
   "metadata": {
    "collapsed": true,
    "ExecuteTime": {
     "end_time": "2024-11-27T11:27:29.786554Z",
     "start_time": "2024-11-27T11:27:29.267478Z"
    }
   },
   "source": [
    "edgelist = pd.read_csv('large_twitch_edges.csv')\n",
    "edgelist"
   ],
   "outputs": [
    {
     "data": {
      "text/plain": [
       "         numeric_id_1  numeric_id_2\n",
       "0               98343        141493\n",
       "1               98343         58736\n",
       "2               98343        140703\n",
       "3               98343        151401\n",
       "4               98343        157118\n",
       "...               ...           ...\n",
       "6797552         97507         29359\n",
       "6797553         71175         12020\n",
       "6797554        151702        128281\n",
       "6797555        118034         38021\n",
       "6797556         27819        153993\n",
       "\n",
       "[6797557 rows x 2 columns]"
      ],
      "text/html": [
       "<div>\n",
       "<style scoped>\n",
       "    .dataframe tbody tr th:only-of-type {\n",
       "        vertical-align: middle;\n",
       "    }\n",
       "\n",
       "    .dataframe tbody tr th {\n",
       "        vertical-align: top;\n",
       "    }\n",
       "\n",
       "    .dataframe thead th {\n",
       "        text-align: right;\n",
       "    }\n",
       "</style>\n",
       "<table border=\"1\" class=\"dataframe\">\n",
       "  <thead>\n",
       "    <tr style=\"text-align: right;\">\n",
       "      <th></th>\n",
       "      <th>numeric_id_1</th>\n",
       "      <th>numeric_id_2</th>\n",
       "    </tr>\n",
       "  </thead>\n",
       "  <tbody>\n",
       "    <tr>\n",
       "      <th>0</th>\n",
       "      <td>98343</td>\n",
       "      <td>141493</td>\n",
       "    </tr>\n",
       "    <tr>\n",
       "      <th>1</th>\n",
       "      <td>98343</td>\n",
       "      <td>58736</td>\n",
       "    </tr>\n",
       "    <tr>\n",
       "      <th>2</th>\n",
       "      <td>98343</td>\n",
       "      <td>140703</td>\n",
       "    </tr>\n",
       "    <tr>\n",
       "      <th>3</th>\n",
       "      <td>98343</td>\n",
       "      <td>151401</td>\n",
       "    </tr>\n",
       "    <tr>\n",
       "      <th>4</th>\n",
       "      <td>98343</td>\n",
       "      <td>157118</td>\n",
       "    </tr>\n",
       "    <tr>\n",
       "      <th>...</th>\n",
       "      <td>...</td>\n",
       "      <td>...</td>\n",
       "    </tr>\n",
       "    <tr>\n",
       "      <th>6797552</th>\n",
       "      <td>97507</td>\n",
       "      <td>29359</td>\n",
       "    </tr>\n",
       "    <tr>\n",
       "      <th>6797553</th>\n",
       "      <td>71175</td>\n",
       "      <td>12020</td>\n",
       "    </tr>\n",
       "    <tr>\n",
       "      <th>6797554</th>\n",
       "      <td>151702</td>\n",
       "      <td>128281</td>\n",
       "    </tr>\n",
       "    <tr>\n",
       "      <th>6797555</th>\n",
       "      <td>118034</td>\n",
       "      <td>38021</td>\n",
       "    </tr>\n",
       "    <tr>\n",
       "      <th>6797556</th>\n",
       "      <td>27819</td>\n",
       "      <td>153993</td>\n",
       "    </tr>\n",
       "  </tbody>\n",
       "</table>\n",
       "<p>6797557 rows × 2 columns</p>\n",
       "</div>"
      ]
     },
     "execution_count": 3,
     "metadata": {},
     "output_type": "execute_result"
    }
   ],
   "execution_count": 3
  },
  {
   "metadata": {},
   "cell_type": "markdown",
   "source": "Rename columns in \"source\" and \"target\"",
   "id": "861ad479379a8e78"
  },
  {
   "metadata": {
    "ExecuteTime": {
     "end_time": "2024-11-27T11:28:48.406870Z",
     "start_time": "2024-11-27T11:28:48.351791Z"
    }
   },
   "cell_type": "code",
   "source": [
    "edgelist = edgelist.rename(columns={'numeric_id_1':'source', 'numeric_id_2':'target'})\n",
    "edgelist"
   ],
   "id": "2dca95a53719dcc2",
   "outputs": [
    {
     "data": {
      "text/plain": [
       "         source  target\n",
       "0         98343  141493\n",
       "1         98343   58736\n",
       "2         98343  140703\n",
       "3         98343  151401\n",
       "4         98343  157118\n",
       "...         ...     ...\n",
       "6797552   97507   29359\n",
       "6797553   71175   12020\n",
       "6797554  151702  128281\n",
       "6797555  118034   38021\n",
       "6797556   27819  153993\n",
       "\n",
       "[6797557 rows x 2 columns]"
      ],
      "text/html": [
       "<div>\n",
       "<style scoped>\n",
       "    .dataframe tbody tr th:only-of-type {\n",
       "        vertical-align: middle;\n",
       "    }\n",
       "\n",
       "    .dataframe tbody tr th {\n",
       "        vertical-align: top;\n",
       "    }\n",
       "\n",
       "    .dataframe thead th {\n",
       "        text-align: right;\n",
       "    }\n",
       "</style>\n",
       "<table border=\"1\" class=\"dataframe\">\n",
       "  <thead>\n",
       "    <tr style=\"text-align: right;\">\n",
       "      <th></th>\n",
       "      <th>source</th>\n",
       "      <th>target</th>\n",
       "    </tr>\n",
       "  </thead>\n",
       "  <tbody>\n",
       "    <tr>\n",
       "      <th>0</th>\n",
       "      <td>98343</td>\n",
       "      <td>141493</td>\n",
       "    </tr>\n",
       "    <tr>\n",
       "      <th>1</th>\n",
       "      <td>98343</td>\n",
       "      <td>58736</td>\n",
       "    </tr>\n",
       "    <tr>\n",
       "      <th>2</th>\n",
       "      <td>98343</td>\n",
       "      <td>140703</td>\n",
       "    </tr>\n",
       "    <tr>\n",
       "      <th>3</th>\n",
       "      <td>98343</td>\n",
       "      <td>151401</td>\n",
       "    </tr>\n",
       "    <tr>\n",
       "      <th>4</th>\n",
       "      <td>98343</td>\n",
       "      <td>157118</td>\n",
       "    </tr>\n",
       "    <tr>\n",
       "      <th>...</th>\n",
       "      <td>...</td>\n",
       "      <td>...</td>\n",
       "    </tr>\n",
       "    <tr>\n",
       "      <th>6797552</th>\n",
       "      <td>97507</td>\n",
       "      <td>29359</td>\n",
       "    </tr>\n",
       "    <tr>\n",
       "      <th>6797553</th>\n",
       "      <td>71175</td>\n",
       "      <td>12020</td>\n",
       "    </tr>\n",
       "    <tr>\n",
       "      <th>6797554</th>\n",
       "      <td>151702</td>\n",
       "      <td>128281</td>\n",
       "    </tr>\n",
       "    <tr>\n",
       "      <th>6797555</th>\n",
       "      <td>118034</td>\n",
       "      <td>38021</td>\n",
       "    </tr>\n",
       "    <tr>\n",
       "      <th>6797556</th>\n",
       "      <td>27819</td>\n",
       "      <td>153993</td>\n",
       "    </tr>\n",
       "  </tbody>\n",
       "</table>\n",
       "<p>6797557 rows × 2 columns</p>\n",
       "</div>"
      ]
     },
     "execution_count": 4,
     "metadata": {},
     "output_type": "execute_result"
    }
   ],
   "execution_count": 4
  },
  {
   "metadata": {
    "ExecuteTime": {
     "end_time": "2024-11-27T11:31:11.738576Z",
     "start_time": "2024-11-27T11:31:11.718808Z"
    }
   },
   "cell_type": "code",
   "source": "edgelist.isnull().sum()",
   "id": "ea695891703a6b1c",
   "outputs": [
    {
     "data": {
      "text/plain": [
       "source    0\n",
       "target    0\n",
       "dtype: int64"
      ]
     },
     "execution_count": 7,
     "metadata": {},
     "output_type": "execute_result"
    }
   ],
   "execution_count": 7
  },
  {
   "metadata": {},
   "cell_type": "markdown",
   "source": "Create graph:",
   "id": "984d76b76238615d"
  },
  {
   "metadata": {
    "ExecuteTime": {
     "end_time": "2024-11-27T11:52:37.439965Z",
     "start_time": "2024-11-27T11:52:10.427769Z"
    }
   },
   "cell_type": "code",
   "source": [
    "G = nx.from_pandas_edgelist(edgelist, source='source', target='target')\n",
    "print(G)\n",
    "print('Is the graph directed ?',G.is_directed())"
   ],
   "id": "ffd7dae16c7cdb32",
   "outputs": [
    {
     "name": "stdout",
     "output_type": "stream",
     "text": [
      "Graph with 168114 nodes and 6797557 edges\n",
      "Is the graph directed ? False\n"
     ]
    }
   ],
   "execution_count": 13
  },
  {
   "metadata": {},
   "cell_type": "markdown",
   "source": "Upload note features",
   "id": "50021f6db3beaed"
  },
  {
   "metadata": {
    "ExecuteTime": {
     "end_time": "2024-11-27T11:58:58.374893Z",
     "start_time": "2024-11-27T11:58:58.268443Z"
    }
   },
   "cell_type": "code",
   "source": [
    "node_features = pd.read_csv(\"large_twitch_features.csv\")\n",
    "node_features"
   ],
   "id": "178fdb2dcf6d6d92",
   "outputs": [
    {
     "data": {
      "text/plain": [
       "         views  mature  life_time  created_at  updated_at  numeric_id  \\\n",
       "0         7879       1        969  2016-02-16  2018-10-12           0   \n",
       "1          500       0       2699  2011-05-19  2018-10-08           1   \n",
       "2       382502       1       3149  2010-02-27  2018-10-12           2   \n",
       "3          386       0       1344  2015-01-26  2018-10-01           3   \n",
       "4         2486       0       1784  2013-11-22  2018-10-11           4   \n",
       "...        ...     ...        ...         ...         ...         ...   \n",
       "168109    4965       0        810  2016-07-20  2018-10-08      168109   \n",
       "168110    4128       1       2080  2013-01-31  2018-10-12      168110   \n",
       "168111    3545       0       1797  2013-11-08  2018-10-10      168111   \n",
       "168112  892736       1       2135  2012-12-07  2018-10-12      168112   \n",
       "168113     791       0       2005  2013-01-22  2018-07-20      168113   \n",
       "\n",
       "        dead_account language  affiliate  \n",
       "0                  0       EN          1  \n",
       "1                  0       EN          0  \n",
       "2                  0       EN          1  \n",
       "3                  0       EN          0  \n",
       "4                  0       EN          0  \n",
       "...              ...      ...        ...  \n",
       "168109             0       EN          0  \n",
       "168110             0       EN          0  \n",
       "168111             0       EN          1  \n",
       "168112             0       EN          0  \n",
       "168113             0       EN          0  \n",
       "\n",
       "[168114 rows x 9 columns]"
      ],
      "text/html": [
       "<div>\n",
       "<style scoped>\n",
       "    .dataframe tbody tr th:only-of-type {\n",
       "        vertical-align: middle;\n",
       "    }\n",
       "\n",
       "    .dataframe tbody tr th {\n",
       "        vertical-align: top;\n",
       "    }\n",
       "\n",
       "    .dataframe thead th {\n",
       "        text-align: right;\n",
       "    }\n",
       "</style>\n",
       "<table border=\"1\" class=\"dataframe\">\n",
       "  <thead>\n",
       "    <tr style=\"text-align: right;\">\n",
       "      <th></th>\n",
       "      <th>views</th>\n",
       "      <th>mature</th>\n",
       "      <th>life_time</th>\n",
       "      <th>created_at</th>\n",
       "      <th>updated_at</th>\n",
       "      <th>numeric_id</th>\n",
       "      <th>dead_account</th>\n",
       "      <th>language</th>\n",
       "      <th>affiliate</th>\n",
       "    </tr>\n",
       "  </thead>\n",
       "  <tbody>\n",
       "    <tr>\n",
       "      <th>0</th>\n",
       "      <td>7879</td>\n",
       "      <td>1</td>\n",
       "      <td>969</td>\n",
       "      <td>2016-02-16</td>\n",
       "      <td>2018-10-12</td>\n",
       "      <td>0</td>\n",
       "      <td>0</td>\n",
       "      <td>EN</td>\n",
       "      <td>1</td>\n",
       "    </tr>\n",
       "    <tr>\n",
       "      <th>1</th>\n",
       "      <td>500</td>\n",
       "      <td>0</td>\n",
       "      <td>2699</td>\n",
       "      <td>2011-05-19</td>\n",
       "      <td>2018-10-08</td>\n",
       "      <td>1</td>\n",
       "      <td>0</td>\n",
       "      <td>EN</td>\n",
       "      <td>0</td>\n",
       "    </tr>\n",
       "    <tr>\n",
       "      <th>2</th>\n",
       "      <td>382502</td>\n",
       "      <td>1</td>\n",
       "      <td>3149</td>\n",
       "      <td>2010-02-27</td>\n",
       "      <td>2018-10-12</td>\n",
       "      <td>2</td>\n",
       "      <td>0</td>\n",
       "      <td>EN</td>\n",
       "      <td>1</td>\n",
       "    </tr>\n",
       "    <tr>\n",
       "      <th>3</th>\n",
       "      <td>386</td>\n",
       "      <td>0</td>\n",
       "      <td>1344</td>\n",
       "      <td>2015-01-26</td>\n",
       "      <td>2018-10-01</td>\n",
       "      <td>3</td>\n",
       "      <td>0</td>\n",
       "      <td>EN</td>\n",
       "      <td>0</td>\n",
       "    </tr>\n",
       "    <tr>\n",
       "      <th>4</th>\n",
       "      <td>2486</td>\n",
       "      <td>0</td>\n",
       "      <td>1784</td>\n",
       "      <td>2013-11-22</td>\n",
       "      <td>2018-10-11</td>\n",
       "      <td>4</td>\n",
       "      <td>0</td>\n",
       "      <td>EN</td>\n",
       "      <td>0</td>\n",
       "    </tr>\n",
       "    <tr>\n",
       "      <th>...</th>\n",
       "      <td>...</td>\n",
       "      <td>...</td>\n",
       "      <td>...</td>\n",
       "      <td>...</td>\n",
       "      <td>...</td>\n",
       "      <td>...</td>\n",
       "      <td>...</td>\n",
       "      <td>...</td>\n",
       "      <td>...</td>\n",
       "    </tr>\n",
       "    <tr>\n",
       "      <th>168109</th>\n",
       "      <td>4965</td>\n",
       "      <td>0</td>\n",
       "      <td>810</td>\n",
       "      <td>2016-07-20</td>\n",
       "      <td>2018-10-08</td>\n",
       "      <td>168109</td>\n",
       "      <td>0</td>\n",
       "      <td>EN</td>\n",
       "      <td>0</td>\n",
       "    </tr>\n",
       "    <tr>\n",
       "      <th>168110</th>\n",
       "      <td>4128</td>\n",
       "      <td>1</td>\n",
       "      <td>2080</td>\n",
       "      <td>2013-01-31</td>\n",
       "      <td>2018-10-12</td>\n",
       "      <td>168110</td>\n",
       "      <td>0</td>\n",
       "      <td>EN</td>\n",
       "      <td>0</td>\n",
       "    </tr>\n",
       "    <tr>\n",
       "      <th>168111</th>\n",
       "      <td>3545</td>\n",
       "      <td>0</td>\n",
       "      <td>1797</td>\n",
       "      <td>2013-11-08</td>\n",
       "      <td>2018-10-10</td>\n",
       "      <td>168111</td>\n",
       "      <td>0</td>\n",
       "      <td>EN</td>\n",
       "      <td>1</td>\n",
       "    </tr>\n",
       "    <tr>\n",
       "      <th>168112</th>\n",
       "      <td>892736</td>\n",
       "      <td>1</td>\n",
       "      <td>2135</td>\n",
       "      <td>2012-12-07</td>\n",
       "      <td>2018-10-12</td>\n",
       "      <td>168112</td>\n",
       "      <td>0</td>\n",
       "      <td>EN</td>\n",
       "      <td>0</td>\n",
       "    </tr>\n",
       "    <tr>\n",
       "      <th>168113</th>\n",
       "      <td>791</td>\n",
       "      <td>0</td>\n",
       "      <td>2005</td>\n",
       "      <td>2013-01-22</td>\n",
       "      <td>2018-07-20</td>\n",
       "      <td>168113</td>\n",
       "      <td>0</td>\n",
       "      <td>EN</td>\n",
       "      <td>0</td>\n",
       "    </tr>\n",
       "  </tbody>\n",
       "</table>\n",
       "<p>168114 rows × 9 columns</p>\n",
       "</div>"
      ]
     },
     "execution_count": 19,
     "metadata": {},
     "output_type": "execute_result"
    }
   ],
   "execution_count": 19
  },
  {
   "metadata": {},
   "cell_type": "markdown",
   "source": "Add features to nodes in graph G",
   "id": "9e299d2e4b591512"
  },
  {
   "metadata": {
    "ExecuteTime": {
     "end_time": "2024-11-27T11:59:08.701081Z",
     "start_time": "2024-11-27T11:59:00.511499Z"
    }
   },
   "cell_type": "code",
   "source": [
    "# set ID\n",
    "node_features.set_index(\"numeric_id\", inplace=True)\n",
    "\n",
    "for node, features in node_features.iterrows():\n",
    "    G.nodes[node][\"features\"] = features.to_dict()"
   ],
   "id": "582ec73cb7ce8cd7",
   "outputs": [],
   "execution_count": 20
  },
  {
   "metadata": {},
   "cell_type": "markdown",
   "source": "Check correctness of application",
   "id": "b2490fb1b47b2d97"
  },
  {
   "metadata": {
    "ExecuteTime": {
     "end_time": "2024-11-27T12:00:30.990041Z",
     "start_time": "2024-11-27T12:00:30.873158Z"
    }
   },
   "cell_type": "code",
   "source": [
    "example_node = list(G.nodes)[0]\n",
    "print(f\"Feature per il nodo {example_node}: {G.nodes[example_node].get('features', {})}\")\n",
    "\n"
   ],
   "id": "640a27b25db5722b",
   "outputs": [
    {
     "name": "stdout",
     "output_type": "stream",
     "text": [
      "Feature per il nodo 98343: {'views': 282, 'mature': 0, 'life_time': 2086, 'created_at': '2012-12-27', 'updated_at': '2018-09-13', 'dead_account': 0, 'language': 'EN', 'affiliate': 0}\n"
     ]
    }
   ],
   "execution_count": 26
  },
  {
   "metadata": {},
   "cell_type": "code",
   "outputs": [],
   "execution_count": null,
   "source": "",
   "id": "667932089ac56abc"
  }
 ],
 "metadata": {
  "kernelspec": {
   "display_name": "Python 3",
   "language": "python",
   "name": "python3"
  },
  "language_info": {
   "codemirror_mode": {
    "name": "ipython",
    "version": 2
   },
   "file_extension": ".py",
   "mimetype": "text/x-python",
   "name": "python",
   "nbconvert_exporter": "python",
   "pygments_lexer": "ipython2",
   "version": "2.7.6"
  }
 },
 "nbformat": 4,
 "nbformat_minor": 5
}
