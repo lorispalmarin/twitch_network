{
 "cells": [
  {
   "metadata": {},
   "cell_type": "markdown",
   "source": [
    "# TWITCH GAMERS NETWORK\n",
    "Loris Palmarin (32349A)"
   ],
   "id": "6f086afd936e8846"
  },
  {
   "metadata": {},
   "cell_type": "markdown",
   "source": "Importing packages needed:",
   "id": "60af38cdeac48059"
  },
  {
   "metadata": {
    "ExecuteTime": {
     "end_time": "2024-11-27T11:17:44.876766Z",
     "start_time": "2024-11-27T11:17:37.441490Z"
    }
   },
   "cell_type": "code",
   "source": [
    "import networkx as nx\n",
    "import pandas as pd"
   ],
   "id": "29346dccf83ecb33",
   "outputs": [],
   "execution_count": 1
  },
  {
   "cell_type": "code",
   "execution_count": null,
   "id": "initial_id",
   "metadata": {
    "collapsed": true
   },
   "outputs": [],
   "source": [
    ""
   ]
  }
 ],
 "metadata": {
  "kernelspec": {
   "display_name": "Python 3",
   "language": "python",
   "name": "python3"
  },
  "language_info": {
   "codemirror_mode": {
    "name": "ipython",
    "version": 2
   },
   "file_extension": ".py",
   "mimetype": "text/x-python",
   "name": "python",
   "nbconvert_exporter": "python",
   "pygments_lexer": "ipython2",
   "version": "2.7.6"
  }
 },
 "nbformat": 4,
 "nbformat_minor": 5
}
