{
 "cells": [
  {
   "metadata": {},
   "cell_type": "markdown",
   "source": [
    "# **Analysis of Twitch Social Network**\n",
    "\n",
    "## **Introduction**\n",
    "\n",
    "This project focuses on analyzing the social network of Twitch using the dataset provided by SNAP (Stanford Network Analysis Project). Twitch is a live-streaming platform, primarily for gaming, hosting a vast community of streamers and viewers. The Twitch social network is represented as an undirected graph, where nodes are users, and edges represent mutual friendships. This project aims to study the interaction dynamics, community structures, and user behaviors within the network.\n",
    "\n",
    "---\n",
    "\n",
    "## **Project Objectives**\n",
    "\n",
    "### 1. **User Behavior Analysis**\n",
    "I will examine the interactions between users on the platform by analyzing metrics such as:\n",
    "- Node degree (number of connections).\n",
    "- Centrality (relative importance of a node in the network).\n",
    "- Distribution of connections and identification of influential users.\n",
    "\n",
    "### 2. **Community Detection**\n",
    "I will apply community detection algorithms to identify groups of users that are strongly connected. This will help to understand how communities form based on shared characteristics, such as language, preferred games, or geographical location.\n",
    "\n",
    "### 3. **Explicit Content Analysis**\n",
    "I will predict the likelihood of a streamer using explicit language based on their connections and attributes. This will be achieved using supervised machine learning techniques, leveraging node attributes and graph connections.\n",
    "\n",
    "---\n",
    "\n",
    "## **Methodology**\n",
    "\n",
    "The project will be developed following these steps:\n",
    "1. **Data Loading and Preprocessing**: Importing the edge list and node features, building the graph, and cleaning the data.\n",
    "2. **Exploratory Network Analysis**: Studying the main characteristics of the network, such as the number of nodes, edges, and basic metrics.\n",
    "3. **Experiments**:\n",
    "   - User behavior analysis.\n",
    "   - Community detection using clustering algorithms.\n",
    "   - Explicit content prediction through classification.\n",
    "4. **Evaluation**: Evaluating results and visualizing the network and analyses.\n",
    "\n",
    "---\n",
    "\n",
    "## **Tools Used**\n",
    "- **Python**: The primary programming language.\n",
    "- **NetworkX**: For graph manipulation and analysis.\n",
    "- **Scikit-learn**: For implementing machine learning models.\n",
    "- **Matplotlib/Seaborn**: For data and result visualization.\n",
    "- **Gephi**: For interactive network visualization.\n",
    "\n",
    "\n",
    "---\n",
    "\n"
   ],
   "id": "8de67a675fbd3797"
  },
  {
   "metadata": {},
   "cell_type": "markdown",
   "source": "## **1. Data Loading and Preprocessing**\n",
   "id": "c1bd553006335b59"
  },
  {
   "metadata": {
    "ExecuteTime": {
     "end_time": "2024-12-10T16:05:24.670561Z",
     "start_time": "2024-12-10T16:05:24.666399Z"
    }
   },
   "cell_type": "code",
   "source": [
    "import networkx as nx\n",
    "import pandas as pd\n",
    "import matplotlib.pyplot as plt\n",
    "import random\n",
    "from collections import defaultdict\n",
    "import numpy as np\n"
   ],
   "id": "fbb88a456a1a949f",
   "outputs": [],
   "execution_count": 21
  },
  {
   "metadata": {},
   "cell_type": "markdown",
   "source": [
    "### 1. Load the dataset, including:\n",
    "   - Edge list: representing user connections on Twitch.\n",
    "   - Node features: describing user attributes (e.g., language, streaming behavior)."
   ],
   "id": "358e1275f6362187"
  },
  {
   "metadata": {
    "ExecuteTime": {
     "end_time": "2024-12-10T15:51:29.096021Z",
     "start_time": "2024-12-10T15:51:28.630158Z"
    }
   },
   "cell_type": "code",
   "source": [
    "# Load the edge list\n",
    "edgelist = pd.read_csv('large_twitch_edges.csv', )\n",
    "# Display the first few rows to understand the structure\n",
    "edgelist.head()"
   ],
   "id": "61d56d65fa2b4dbe",
   "outputs": [
    {
     "data": {
      "text/plain": [
       "   numeric_id_1  numeric_id_2\n",
       "0         98343        141493\n",
       "1         98343         58736\n",
       "2         98343        140703\n",
       "3         98343        151401\n",
       "4         98343        157118"
      ],
      "text/html": [
       "<div>\n",
       "<style scoped>\n",
       "    .dataframe tbody tr th:only-of-type {\n",
       "        vertical-align: middle;\n",
       "    }\n",
       "\n",
       "    .dataframe tbody tr th {\n",
       "        vertical-align: top;\n",
       "    }\n",
       "\n",
       "    .dataframe thead th {\n",
       "        text-align: right;\n",
       "    }\n",
       "</style>\n",
       "<table border=\"1\" class=\"dataframe\">\n",
       "  <thead>\n",
       "    <tr style=\"text-align: right;\">\n",
       "      <th></th>\n",
       "      <th>numeric_id_1</th>\n",
       "      <th>numeric_id_2</th>\n",
       "    </tr>\n",
       "  </thead>\n",
       "  <tbody>\n",
       "    <tr>\n",
       "      <th>0</th>\n",
       "      <td>98343</td>\n",
       "      <td>141493</td>\n",
       "    </tr>\n",
       "    <tr>\n",
       "      <th>1</th>\n",
       "      <td>98343</td>\n",
       "      <td>58736</td>\n",
       "    </tr>\n",
       "    <tr>\n",
       "      <th>2</th>\n",
       "      <td>98343</td>\n",
       "      <td>140703</td>\n",
       "    </tr>\n",
       "    <tr>\n",
       "      <th>3</th>\n",
       "      <td>98343</td>\n",
       "      <td>151401</td>\n",
       "    </tr>\n",
       "    <tr>\n",
       "      <th>4</th>\n",
       "      <td>98343</td>\n",
       "      <td>157118</td>\n",
       "    </tr>\n",
       "  </tbody>\n",
       "</table>\n",
       "</div>"
      ]
     },
     "execution_count": 4,
     "metadata": {},
     "output_type": "execute_result"
    }
   ],
   "execution_count": 4
  },
  {
   "metadata": {
    "ExecuteTime": {
     "end_time": "2024-12-10T15:51:29.196533Z",
     "start_time": "2024-12-10T15:51:29.119999Z"
    }
   },
   "cell_type": "code",
   "source": [
    "# Load CSV file with node features\n",
    "node_features = pd.read_csv(\"large_twitch_features.csv\", index_col=5)\n",
    "# Display the first few rows to understand the structure\n",
    "node_features.head()"
   ],
   "id": "9e94727810e4092",
   "outputs": [
    {
     "data": {
      "text/plain": [
       "             views  mature  life_time  created_at  updated_at  dead_account  \\\n",
       "numeric_id                                                                    \n",
       "0             7879       1        969  2016-02-16  2018-10-12             0   \n",
       "1              500       0       2699  2011-05-19  2018-10-08             0   \n",
       "2           382502       1       3149  2010-02-27  2018-10-12             0   \n",
       "3              386       0       1344  2015-01-26  2018-10-01             0   \n",
       "4             2486       0       1784  2013-11-22  2018-10-11             0   \n",
       "\n",
       "           language  affiliate  \n",
       "numeric_id                      \n",
       "0                EN          1  \n",
       "1                EN          0  \n",
       "2                EN          1  \n",
       "3                EN          0  \n",
       "4                EN          0  "
      ],
      "text/html": [
       "<div>\n",
       "<style scoped>\n",
       "    .dataframe tbody tr th:only-of-type {\n",
       "        vertical-align: middle;\n",
       "    }\n",
       "\n",
       "    .dataframe tbody tr th {\n",
       "        vertical-align: top;\n",
       "    }\n",
       "\n",
       "    .dataframe thead th {\n",
       "        text-align: right;\n",
       "    }\n",
       "</style>\n",
       "<table border=\"1\" class=\"dataframe\">\n",
       "  <thead>\n",
       "    <tr style=\"text-align: right;\">\n",
       "      <th></th>\n",
       "      <th>views</th>\n",
       "      <th>mature</th>\n",
       "      <th>life_time</th>\n",
       "      <th>created_at</th>\n",
       "      <th>updated_at</th>\n",
       "      <th>dead_account</th>\n",
       "      <th>language</th>\n",
       "      <th>affiliate</th>\n",
       "    </tr>\n",
       "    <tr>\n",
       "      <th>numeric_id</th>\n",
       "      <th></th>\n",
       "      <th></th>\n",
       "      <th></th>\n",
       "      <th></th>\n",
       "      <th></th>\n",
       "      <th></th>\n",
       "      <th></th>\n",
       "      <th></th>\n",
       "    </tr>\n",
       "  </thead>\n",
       "  <tbody>\n",
       "    <tr>\n",
       "      <th>0</th>\n",
       "      <td>7879</td>\n",
       "      <td>1</td>\n",
       "      <td>969</td>\n",
       "      <td>2016-02-16</td>\n",
       "      <td>2018-10-12</td>\n",
       "      <td>0</td>\n",
       "      <td>EN</td>\n",
       "      <td>1</td>\n",
       "    </tr>\n",
       "    <tr>\n",
       "      <th>1</th>\n",
       "      <td>500</td>\n",
       "      <td>0</td>\n",
       "      <td>2699</td>\n",
       "      <td>2011-05-19</td>\n",
       "      <td>2018-10-08</td>\n",
       "      <td>0</td>\n",
       "      <td>EN</td>\n",
       "      <td>0</td>\n",
       "    </tr>\n",
       "    <tr>\n",
       "      <th>2</th>\n",
       "      <td>382502</td>\n",
       "      <td>1</td>\n",
       "      <td>3149</td>\n",
       "      <td>2010-02-27</td>\n",
       "      <td>2018-10-12</td>\n",
       "      <td>0</td>\n",
       "      <td>EN</td>\n",
       "      <td>1</td>\n",
       "    </tr>\n",
       "    <tr>\n",
       "      <th>3</th>\n",
       "      <td>386</td>\n",
       "      <td>0</td>\n",
       "      <td>1344</td>\n",
       "      <td>2015-01-26</td>\n",
       "      <td>2018-10-01</td>\n",
       "      <td>0</td>\n",
       "      <td>EN</td>\n",
       "      <td>0</td>\n",
       "    </tr>\n",
       "    <tr>\n",
       "      <th>4</th>\n",
       "      <td>2486</td>\n",
       "      <td>0</td>\n",
       "      <td>1784</td>\n",
       "      <td>2013-11-22</td>\n",
       "      <td>2018-10-11</td>\n",
       "      <td>0</td>\n",
       "      <td>EN</td>\n",
       "      <td>0</td>\n",
       "    </tr>\n",
       "  </tbody>\n",
       "</table>\n",
       "</div>"
      ]
     },
     "execution_count": 5,
     "metadata": {},
     "output_type": "execute_result"
    }
   ],
   "execution_count": 5
  },
  {
   "metadata": {},
   "cell_type": "markdown",
   "source": [
    "At first sight, I note that:\n",
    "- **Edge List**: Represents the connections between Twitch users, where each row is a link between two users (`numeric_id_1` and `numeric_id_2`).\n",
    "- **Node Features**: Contains attributes for each user (node) such as:\n",
    "  - `views`: Total number of views a streamer has.\n",
    "  - `mature`: Indicates if the streamer produces mature content (1 for yes, 0 for no).\n",
    "  - `life_time`: Lifetime of the user's account (in days).\n",
    "  - `created_at` and `updated_at`: Account creation and last update dates.\n",
    "  - `dead_account`: Indicates if the account is inactive.\n",
    "  - `language`: The main language used by the user.\n",
    "  - `affiliate`: Indicates if the user is a Twitch affiliate (1 for yes, 0 for no)."
   ],
   "id": "a6240dbf9dbaada9"
  },
  {
   "metadata": {},
   "cell_type": "markdown",
   "source": [
    "### 2. Clean and preprocess the data:\n",
    "   - Handle missing values and duplicates."
   ],
   "id": "f593114332904dd6"
  },
  {
   "metadata": {
    "ExecuteTime": {
     "end_time": "2024-12-10T15:51:30.411824Z",
     "start_time": "2024-12-10T15:51:29.771543Z"
    }
   },
   "cell_type": "code",
   "source": [
    "# Check for null values and duplicates in the edge list\n",
    "print(\"### Edge List ###\")\n",
    "print(f\"Total rows in edge list: {edgelist.shape[0]}\")\n",
    "\n",
    "# Check for null values\n",
    "null_values_edges = edgelist.isnull().sum()\n",
    "print(\"Null values in edge list:\")\n",
    "print(null_values_edges)\n",
    "\n",
    "# Check for duplicates\n",
    "duplicates_edges = edgelist.duplicated().sum()\n",
    "print(f\"Duplicate rows in edge list: {duplicates_edges}\")\n",
    "\n",
    "print(\"\\n\")\n",
    "\n",
    "# Check for null values and duplicates in the node attributes\n",
    "print(\"### Node Attributes ###\")\n",
    "print(f\"Total rows in node attributes: {node_features.shape[0]}\")\n",
    "\n",
    "# Check for null values\n",
    "null_values_nodes = node_features.isnull().sum()\n",
    "print(\"Null values in node attributes:\")\n",
    "print(null_values_nodes)"
   ],
   "id": "38c42297b21b3034",
   "outputs": [
    {
     "name": "stdout",
     "output_type": "stream",
     "text": [
      "### Edge List ###\n",
      "Total rows in edge list: 6797557\n",
      "Null values in edge list:\n",
      "numeric_id_1    0\n",
      "numeric_id_2    0\n",
      "dtype: int64\n",
      "Duplicate rows in edge list: 0\n",
      "\n",
      "\n",
      "### Node Attributes ###\n",
      "Total rows in node attributes: 168114\n",
      "Null values in node attributes:\n",
      "views           0\n",
      "mature          0\n",
      "life_time       0\n",
      "created_at      0\n",
      "updated_at      0\n",
      "dead_account    0\n",
      "language        0\n",
      "affiliate       0\n",
      "dtype: int64\n"
     ]
    }
   ],
   "execution_count": 6
  },
  {
   "metadata": {},
   "cell_type": "markdown",
   "source": [
    "- **Edge List**:\n",
    "  - No null values found in `numeric_id_1` or `numeric_id_2`.\n",
    "  - No duplicate rows detected.\n",
    "\n",
    "- **Node Attributes**:\n",
    "  - No null values in any columns (`views`, `mature`, `life_time`, etc.).\n",
    "  - No duplicate rows detected.\n",
    "\n",
    "Both datasets are clean and ready for the next step: building the graph using the edge list and enriching it with node attributes."
   ],
   "id": "4a5e28b46caa4e33"
  },
  {
   "metadata": {},
   "cell_type": "markdown",
   "source": [
    "### 3. Build the graph:\n",
    "   - Use NetworkX to create the graph from the edge list.\n",
    "   - Add node features to the graph."
   ],
   "id": "b615ee852b91af0"
  },
  {
   "metadata": {
    "ExecuteTime": {
     "end_time": "2024-12-10T15:51:37.073287Z",
     "start_time": "2024-12-10T15:51:30.897862Z"
    }
   },
   "cell_type": "code",
   "source": [
    "OG = nx.from_pandas_edgelist(edgelist, source='numeric_id_1', target='numeric_id_2', create_using=nx.Graph())\n",
    "print(OG)\n",
    "print('Is the graph directed ?',OG.is_directed())"
   ],
   "id": "f839eb8b59e25154",
   "outputs": [
    {
     "name": "stdout",
     "output_type": "stream",
     "text": [
      "Graph with 168114 nodes and 6797557 edges\n",
      "Is the graph directed ? False\n"
     ]
    }
   ],
   "execution_count": 7
  },
  {
   "metadata": {},
   "cell_type": "markdown",
   "source": [
    "I built an **undirected graph** where:\n",
    "* Nodes are Twitch streamers.\n",
    "* Edges are mutual friendships between Twitch streamers.\n"
   ],
   "id": "bc37beca7971799b"
  },
  {
   "metadata": {
    "ExecuteTime": {
     "end_time": "2024-12-10T15:51:37.407236Z",
     "start_time": "2024-12-10T15:51:37.091474Z"
    }
   },
   "cell_type": "code",
   "source": [
    "# Add node features to the graph\n",
    "nx.set_node_attributes(OG, node_features.to_dict(orient='index'))\n",
    "\n",
    "# Check correctness of this operation\n",
    "example_node = list(OG.nodes)[0]\n",
    "print(f\"Attributes for node {example_node}: {OG.nodes[example_node]}\")"
   ],
   "id": "ce9fd67e3887418d",
   "outputs": [
    {
     "name": "stdout",
     "output_type": "stream",
     "text": [
      "Attributes for node 98343: {'views': 282, 'mature': 0, 'life_time': 2086, 'created_at': '2012-12-27', 'updated_at': '2018-09-13', 'dead_account': 0, 'language': 'EN', 'affiliate': 0}\n"
     ]
    }
   ],
   "execution_count": 8
  },
  {
   "metadata": {},
   "cell_type": "markdown",
   "source": "Another important step is to check for **self loops** and removing them:",
   "id": "58b03e5c5dc6297f"
  },
  {
   "metadata": {
    "ExecuteTime": {
     "end_time": "2024-12-10T15:51:37.556148Z",
     "start_time": "2024-12-10T15:51:37.479584Z"
    }
   },
   "cell_type": "code",
   "source": [
    "OG.remove_edges_from(nx.selfloop_edges(OG))\n",
    "print(OG)"
   ],
   "id": "48a3191d499f9e91",
   "outputs": [
    {
     "name": "stdout",
     "output_type": "stream",
     "text": [
      "Graph with 168114 nodes and 6797557 edges\n"
     ]
    }
   ],
   "execution_count": 9
  },
  {
   "metadata": {},
   "cell_type": "markdown",
   "source": [
    "As we can see from the output, no edges have been removed.\n",
    "\n",
    "\n",
    "For the purposes of this project and to facilitate analysis, I will take into account only a part of the network of Twitch streamers.\n",
    "At first, I filter the nodes with `language` attribute and count them :\n"
   ],
   "id": "803a66ffc69503f0"
  },
  {
   "metadata": {
    "ExecuteTime": {
     "end_time": "2024-12-10T15:51:37.684126Z",
     "start_time": "2024-12-10T15:51:37.616610Z"
    }
   },
   "cell_type": "code",
   "source": [
    "language_counts = defaultdict(int)\n",
    "\n",
    "# Iteration through nodes\n",
    "for node, attr in OG.nodes(data=True):\n",
    "    language = attr.get('language', 'Unknown')\n",
    "    language_counts[language] += 1\n",
    "\n",
    "# Print \n",
    "for language, count in language_counts.items():\n",
    "    print(f\"Language: {language}, Count: {count}\")"
   ],
   "id": "45f6ec7c3260b2bf",
   "outputs": [
    {
     "name": "stdout",
     "output_type": "stream",
     "text": [
      "Language: EN, Count: 124411\n",
      "Language: OTHER, Count: 1429\n",
      "Language: ZH, Count: 2828\n",
      "Language: ES, Count: 5699\n",
      "Language: SV, Count: 854\n",
      "Language: DE, Count: 9428\n",
      "Language: RU, Count: 4821\n",
      "Language: CS, Count: 576\n",
      "Language: DA, Count: 503\n",
      "Language: KO, Count: 1215\n",
      "Language: IT, Count: 1230\n",
      "Language: NL, Count: 701\n",
      "Language: PT, Count: 2536\n",
      "Language: NO, Count: 330\n",
      "Language: FI, Count: 652\n",
      "Language: FR, Count: 6799\n",
      "Language: TR, Count: 772\n",
      "Language: JA, Count: 1327\n",
      "Language: HU, Count: 427\n",
      "Language: TH, Count: 632\n",
      "Language: PL, Count: 944\n"
     ]
    }
   ],
   "execution_count": 10
  },
  {
   "metadata": {},
   "cell_type": "markdown",
   "source": "**French** network has a medium size, so I will use it as starting point, creating an independent subgraph (`G`) from the original one (`OG`)",
   "id": "3f4d216a052029c1"
  },
  {
   "metadata": {
    "ExecuteTime": {
     "end_time": "2024-12-10T15:51:38.065931Z",
     "start_time": "2024-12-10T15:51:37.752856Z"
    }
   },
   "cell_type": "code",
   "source": [
    "# Filter nodes with attribute 'language' = 'FR'\n",
    "nodes_with_fr = [n for n, attr in OG.nodes(data=True) if attr.get('language') == 'FR']\n",
    "\n",
    "# Create independent subgraph\n",
    "G = OG.subgraph(nodes_with_fr).copy()\n",
    "\n",
    "print(G)\n",
    "print(f'Is the graph directed?', G.is_directed())"
   ],
   "id": "91a9f5066474e24e",
   "outputs": [
    {
     "name": "stdout",
     "output_type": "stream",
     "text": [
      "Graph with 6799 nodes and 123644 edges\n",
      "Is the graph directed? False\n"
     ]
    }
   ],
   "execution_count": 11
  },
  {
   "metadata": {
    "ExecuteTime": {
     "end_time": "2024-12-10T15:51:38.134072Z",
     "start_time": "2024-12-10T15:51:38.131554Z"
    }
   },
   "cell_type": "code",
   "source": [
    "example_node = list(G.nodes)[0]\n",
    "print(f\"Attributes for node {example_node}: {G.nodes[example_node]}\")"
   ],
   "id": "43c962932060e7c6",
   "outputs": [
    {
     "name": "stdout",
     "output_type": "stream",
     "text": [
      "Attributes for node 32768: {'views': 1183, 'mature': 1, 'life_time': 280, 'created_at': '2018-01-04', 'updated_at': '2018-10-11', 'dead_account': 0, 'language': 'FR', 'affiliate': 1}\n"
     ]
    }
   ],
   "execution_count": 12
  },
  {
   "metadata": {},
   "cell_type": "markdown",
   "source": [
    "### 4. Save the cleaned data for later use.\n",
    "\n",
    "In this section, I will save the Graph in a format compatible with Gephi, for visualisation."
   ],
   "id": "5e120599217f5b0a"
  },
  {
   "metadata": {
    "ExecuteTime": {
     "end_time": "2024-12-09T16:26:37.710915Z",
     "start_time": "2024-12-09T16:26:19.219110Z"
    }
   },
   "cell_type": "code",
   "source": "nx.write_graphml(G, \"twitch_networkFR.graphml\")",
   "id": "f953b6c55a30ad41",
   "outputs": [],
   "execution_count": 84
  },
  {
   "metadata": {},
   "cell_type": "markdown",
   "source": [
    "### 5. Network Visualisation\n",
    "\n",
    "\n",
    "The visualisation below is elaborated with Gephi. \n",
    "\n",
    "I used ForceAtlas2 and coloured nodes with green (affiliated streamers) and red (not affiliated streamers). \n",
    "\n",
    "\n",
    "![vis1](vis1.png)"
   ],
   "id": "103e1d9cc0b68229"
  },
  {
   "metadata": {},
   "cell_type": "markdown",
   "source": [
    "This ForceAtlas2 visualization of the network reveals some key features of the graph:\n",
    "\n",
    "1. **Clustering**:\n",
    "    \n",
    "   There is a **central cluster** that contains nodes that are highly connected, likely representing influential or well-integrated streamers within the network. The **peripheral nodes** are less connected and likely represent either new streamers or those with minimal interaction in the network. We can see that the majority of peripheral nodes are not affiliated streamers, meaning that nodes that are less connected / important aren't in collaboration with the Platform.\n",
    "\n",
    "2. **Community Detection**:\n",
    "\n",
    "   An important point to explore is if there are distinct communities within the network, and how affiliation and other attributes correlate with these groups. At first sight, we can see a big central cluster, but maybe this can be divided in more communities, maybe based on type of content or seniority.\n",
    "\n",
    "3. **Role of Peripheral Nodes**:\n",
    "\n",
    "   What characterizes the streamers in the periphery? Are they newcomers, or do they belong to smaller, isolated clusters?\n"
   ],
   "id": "6bd9d8a61eb31a8e"
  },
  {
   "metadata": {},
   "cell_type": "markdown",
   "source": [
    "---\n",
    "\n",
    "## **2. USER BEHAVIOR ANALYSIS**\n"
   ],
   "id": "d9bb44332b65843f"
  },
  {
   "metadata": {},
   "cell_type": "markdown",
   "source": [
    "This section focuses on a deeper understanding of network features, in particular on how users are connected and interact.\n",
    "\n",
    "At first, I will compute density:"
   ],
   "id": "682381475a81ec23"
  },
  {
   "metadata": {
    "ExecuteTime": {
     "end_time": "2024-12-10T15:51:41.416539Z",
     "start_time": "2024-12-10T15:51:41.392791Z"
    }
   },
   "cell_type": "code",
   "source": [
    "density = nx.density(G)\n",
    "print(f\"Density of gragh: {density}\")"
   ],
   "id": "7ff171b1e7cdcb5d",
   "outputs": [
    {
     "name": "stdout",
     "output_type": "stream",
     "text": [
      "Density of gragh: 0.005350284063458616\n"
     ]
    }
   ],
   "execution_count": 13
  },
  {
   "metadata": {},
   "cell_type": "markdown",
   "source": [
    "The Twitch French network has a density of **0.00535**, indicating that only the 0.5% of all possible connections are available. \n",
    "\n",
    "The network is **sparse**. This is typical for large social networks, where users selectively connect to a small subset of others with similar interests rather than forming a densely connected graph.\n",
    "\n",
    "????Future analysis will explore how density varies across communities and the role of highly connected nodes (hubs) in linking otherwise sparse parts of the network.\n",
    "\n",
    "---\n",
    "### 1. Degree analysis\n",
    "\n",
    "Proceeding with analysis of degree, I compute it for each node in the graph..."
   ],
   "id": "c20d61bd96963317"
  },
  {
   "metadata": {
    "ExecuteTime": {
     "end_time": "2024-12-10T16:02:40.311282Z",
     "start_time": "2024-12-10T16:02:40.272750Z"
    }
   },
   "cell_type": "code",
   "source": [
    "G_degree=G.degree()\n",
    "G_degreelist=list(dict(G.degree()).values())\n",
    "len(G_degreelist)"
   ],
   "id": "c1cad0cd32e3e089",
   "outputs": [
    {
     "data": {
      "text/plain": [
       "6799"
      ]
     },
     "execution_count": 17,
     "metadata": {},
     "output_type": "execute_result"
    }
   ],
   "execution_count": 17
  },
  {
   "metadata": {},
   "cell_type": "markdown",
   "source": "... and I put it in a list from which I can compute some statistics:",
   "id": "b4d9a635b41bb726"
  },
  {
   "metadata": {
    "ExecuteTime": {
     "end_time": "2024-12-10T16:06:13.062448Z",
     "start_time": "2024-12-10T16:06:13.050680Z"
    }
   },
   "cell_type": "code",
   "source": [
    "print(f'Average degree is', np.mean(G_degreelist))\n",
    "print(f'Minimum degree is', np.min(G_degreelist))\n",
    "print(f'Maximum degree is', np.max(G_degreelist))\n",
    "print(f'Median degree is', np.median(G_degreelist))"
   ],
   "id": "f513e885c8694c1a",
   "outputs": [
    {
     "name": "stdout",
     "output_type": "stream",
     "text": [
      "Average degree is 36.371231063391676\n",
      "Minimum degree is 0\n",
      "Maximum degree is 2081\n",
      "Median degree is 19.0\n"
     ]
    }
   ],
   "execution_count": 24
  },
  {
   "metadata": {},
   "cell_type": "markdown",
   "source": [
    "The degree analysis reveals key insights about the Twitch French network:\n",
    "- The **average degree** is **36.37**, indicating that each user is, on average, connected to 36 other users.\n",
    "- The **median degree** is **19**, highlighting that most users have fewer connections than the average, due to the possible influence of highly connected hubs.\n",
    "- The **maximum degree** is **2081**, representing a key hub in the network, while some nodes are completely isolated (**minimum degree** = 0).\n",
    "\n",
    "This suggests a highly **asymmetric degree distribution**, likely following a power-law, with a few influential nodes connecting the majority of less connected users. Let's check ECCDF to prove it."
   ],
   "id": "690d05cc10e5a3f9"
  },
  {
   "metadata": {
    "ExecuteTime": {
     "end_time": "2024-12-10T17:16:45.247450Z",
     "start_time": "2024-12-10T17:16:45.071478Z"
    }
   },
   "cell_type": "code",
   "source": [
    "def ECDF(x):\n",
    "    y = np.arange(1, len(x) + 1) / len(x)\n",
    "    return y\n",
    "x = np.unique(G_degreelist)\n",
    "y = ECDF(x)\n",
    "fig_cdf_function = plt.figure(figsize=(8,4.5))\n",
    "axes = fig_cdf_function.gca()\n",
    "axes.loglog(x,y, linestyle = '--', marker= 'o', ms=3)\n",
    "axes.set_xlabel('Degree')\n",
    "axes.set_ylabel('ECDF')\n",
    "plt.grid(which=\"both\", linestyle=\"--\", linewidth=0.5)"
   ],
   "id": "964cd764e7be2f22",
   "outputs": [
    {
     "data": {
      "text/plain": [
       "<Figure size 800x450 with 1 Axes>"
      ],
      "image/png": "[encoded data removed]"
     },
     "metadata": {},
     "output_type": "display_data"
    }
   ],
   "execution_count": 63
  },
  {
   "metadata": {},
   "cell_type": "markdown",
   "source": [
    "ECCDF of the network shows a **long tail**, typical of **scale-free networks**, where few hubs have a high degree, while the majority has a low degree. This structure is typical of social network, where few users have a lot of connections. \n",
    "\n",
    "To better understand the structure, let's compare this distribution with two important models: **random networks** (Erdős-Rényi) and **small-world models** (Watts-Strogatz)."
   ],
   "id": "7b1ebb00ea5201f3"
  },
  {
   "metadata": {
    "ExecuteTime": {
     "end_time": "2024-12-10T17:00:46.960550Z",
     "start_time": "2024-12-10T17:00:46.423123Z"
    }
   },
   "cell_type": "code",
   "source": [
    "# ECCDF Function\n",
    "def compute_eccdf(degree_sequence):\n",
    "    sorted_degrees = np.sort(degree_sequence)\n",
    "    cumulative = np.arange(1, len(sorted_degrees) + 1) / len(sorted_degrees)\n",
    "    return sorted_degrees, 1 - cumulative  # ECCDF = 1 - CDF\n",
    "\n",
    "# Degree sequence for the real graph\n",
    "real_degrees = [d for _, d in G.degree()]\n",
    "\n",
    "# Generate random graph (Erdős-Rényi)\n",
    "random_graph = nx.gnm_random_graph(n=G.number_of_nodes(), m=G.number_of_edges())\n",
    "random_degrees = [d for _, d in random_graph.degree()]\n",
    "\n",
    "# Compute ECCDFs\n",
    "real_x, real_eccdf = compute_eccdf(real_degrees)\n",
    "random_x, random_eccdf = compute_eccdf(random_degrees)\n",
    "\n",
    "# Genera il grafo Barabási-Albert\n",
    "ba_graph = nx.barabasi_albert_graph(n=G.number_of_nodes(), m=int(np.mean(real_degrees) // 2))\n",
    "ba_degrees = [d for _, d in ba_graph.degree()]\n",
    "\n",
    "# Compute ECCDF for Barabási-Albert\n",
    "ba_x, ba_eccdf = compute_eccdf(ba_degrees)\n",
    "\n",
    "# Plot ECCDFs including Barabási-Albert\n",
    "plt.figure(figsize=(10, 6))\n",
    "plt.loglog(real_x, real_eccdf, label=\"Twitch Network (Real)\", marker=\"o\", linestyle=\"none\", color=\"red\")\n",
    "plt.loglog(random_x, random_eccdf, label=\"Random Network (Erdős-Rényi)\", marker=\"s\", linestyle=\"none\", color=\"blue\")\n",
    "plt.loglog(ba_x, ba_eccdf, label=\"Barabási-Albert Network\", marker=\"x\", linestyle=\"none\", color=\"purple\")\n",
    "\n",
    "# Customize the plot\n",
    "plt.xlabel(\"Degree (log scale)\")\n",
    "plt.ylabel(\"ECCDF (log scale)\")\n",
    "plt.title(\"ECCDF Comparison: Twitch vs Random vs Watts-Strogatz vs Barabási-Albert\")\n",
    "plt.legend()\n",
    "plt.grid(which=\"both\", linestyle=\"--\", linewidth=0.5)\n",
    "plt.show()"
   ],
   "id": "e2ccf874b2902a73",
   "outputs": [
    {
     "data": {
      "text/plain": [
       "<Figure size 1000x600 with 1 Axes>"
      ],
      "image/png": "[encoded data removed]"
     },
     "metadata": {},
     "output_type": "display_data"
    }
   ],
   "execution_count": 53
  },
  {
   "metadata": {},
   "cell_type": "markdown",
   "source": [
    "- The **Erdős-Rényi model** fails to replicate the heterogeneity of the Twitch network, as it generates networks with a uniform degree distribution. There are no hubs.\n",
    "- The **Barabási-Albert model** provides the closest approximation to the real network, highlighting the preferential attachment mechanism behind the emergence of hubs.\n",
    "\n",
    "This comparison confirms that the Twitch network follows a scale-free structure, with the Barabási-Albert model being the most suitable representation of its degree distribution.\n",
    "\n",
    "\n",
    "---\n",
    "### **2. Connectivity**\n",
    "\n",
    "\n",
    "In this section, I analyze the role of hubs in maintaining the connectivity of the network. Hubs are defined as nodes with a degree in the top 5% of the network (95th percentile). Three main points:\n",
    "1. The number and structure of connected components in the entire network.\n",
    "2. The connectivity among hubs (subgraph of hubs).\n",
    "3. The impact of removing hubs on the overall network structure."
   ],
   "id": "7199ef851323f1d9"
  },
  {
   "metadata": {
    "ExecuteTime": {
     "end_time": "2024-12-10T17:28:52.865736Z",
     "start_time": "2024-12-10T17:28:52.806080Z"
    }
   },
   "cell_type": "code",
   "source": [
    "# Determina la soglia degli hub (95° percentile)\n",
    "hub_threshold = np.percentile(G_degreelist, 95)\n",
    "hubs = {k for k, v in G.degree() if v >= hub_threshold}\n",
    "print(f\"Hub threshold: {hub_threshold}\")\n",
    "print(f\"Number of hubs: {len(hubs)}\")"
   ],
   "id": "ce911bd99bfc29be",
   "outputs": [
    {
     "name": "stdout",
     "output_type": "stream",
     "text": [
      "Hub threshold: 108.09999999999945\n",
      "Number of hubs: 340\n"
     ]
    }
   ],
   "execution_count": 67
  },
  {
   "metadata": {},
   "cell_type": "markdown",
   "source": [
    "Nodes with a degree **higher than 108** are classified as hubs.\n",
    "\n",
    "I found a total of **340 hubs**, which are the top 5% of the most connected nodes. "
   ],
   "id": "2c10bf05e580a02d"
  },
  {
   "metadata": {
    "ExecuteTime": {
     "end_time": "2024-12-10T17:50:15.601556Z",
     "start_time": "2024-12-10T17:50:15.533434Z"
    }
   },
   "cell_type": "code",
   "source": [
    "# Numero di componenti connesse nella rete completa\n",
    "connected_components = [len(c) for c in sorted(nx.connected_components(G), key=len, reverse=True)]\n",
    "print(f\"Number of connected components: {len(connected_components)}\")\n",
    "print(f\"Size of largest connected component: {connected_components[0]}\") \n",
    "print(f'Size of each component: {connected_components}')# Giant component"
   ],
   "id": "16d65d329ca2bf13",
   "outputs": [
    {
     "name": "stdout",
     "output_type": "stream",
     "text": [
      "Number of connected components: 78\n",
      "Size of largest connected component: 6720\n",
      "Size of each component: [6720, 2, 2, 1, 1, 1, 1, 1, 1, 1, 1, 1, 1, 1, 1, 1, 1, 1, 1, 1, 1, 1, 1, 1, 1, 1, 1, 1, 1, 1, 1, 1, 1, 1, 1, 1, 1, 1, 1, 1, 1, 1, 1, 1, 1, 1, 1, 1, 1, 1, 1, 1, 1, 1, 1, 1, 1, 1, 1, 1, 1, 1, 1, 1, 1, 1, 1, 1, 1, 1, 1, 1, 1, 1, 1, 1, 1, 1]\n"
     ]
    }
   ],
   "execution_count": 73
  },
  {
   "metadata": {},
   "cell_type": "markdown",
   "source": "The network contains **78** connected components. Checking the dimensione of each of them, I stated that there is one **giant component** with 6720 nodes and all the other components are of size 1 or 2.",
   "id": "24fd1f8e46e2cbf6"
  },
  {
   "metadata": {
    "ExecuteTime": {
     "end_time": "2024-12-10T17:35:16.168844Z",
     "start_time": "2024-12-10T17:35:16.092365Z"
    }
   },
   "cell_type": "code",
   "source": [
    "# Sottografo degli hub\n",
    "hub_subgraph = G.subgraph(hubs).copy()\n",
    "\n",
    "# Numero di componenti connesse tra gli hub\n",
    "hubs_ccs = len(list(nx.connected_components(hub_subgraph)))\n",
    "print(f\"Number of connected components among hubs: {hubs_ccs}\")\n",
    "\n",
    "# Dimensione della componente connessa principale tra gli hub\n",
    "hub_components_sizes = [len(c) for c in sorted(nx.connected_components(hub_subgraph), key=len, reverse=True)]\n",
    "print(f\"Size of largest hub component: {hub_components_sizes[0]}\")"
   ],
   "id": "54c999a3ffb9890b",
   "outputs": [
    {
     "name": "stdout",
     "output_type": "stream",
     "text": [
      "Number of connected components among hubs: 1\n",
      "Size of largest hub component: 340\n"
     ]
    }
   ],
   "execution_count": 71
  },
  {
   "metadata": {},
   "cell_type": "markdown",
   "source": "Anylizing the subgraph of hubs reveals that they form a **single connected component**. This means that top streamers in Twitch are strongly interconnected and form a dense network.",
   "id": "6249576fb5a43552"
  },
  {
   "metadata": {
    "ExecuteTime": {
     "end_time": "2024-12-10T17:50:49.371119Z",
     "start_time": "2024-12-10T17:50:49.137719Z"
    }
   },
   "cell_type": "code",
   "source": [
    "# Rimozione degli hub dalla rete\n",
    "G_no_hubs = G.copy()\n",
    "G_no_hubs.remove_nodes_from(hubs)\n",
    "\n",
    "# Numero di componenti connesse dopo la rimozione degli hub\n",
    "no_hubs_components = [len(c) for c in sorted(nx.connected_components(G_no_hubs), key=len, reverse=True)]\n",
    "print(f\"Number of connected components without hubs: {len(no_hubs_components)}\")\n",
    "print(f\"Size of largest component without hubs: {no_hubs_components[0]}\") \n",
    "print(f'Size of each component: {no_hubs_components}')# Giant component"
   ],
   "id": "61cbe3c6b3af86f1",
   "outputs": [
    {
     "name": "stdout",
     "output_type": "stream",
     "text": [
      "Number of connected components without hubs: 374\n",
      "Size of largest component without hubs: 6075\n",
      "Size of each component: [6075, 2, 2, 2, 2, 2, 2, 2, 2, 2, 2, 2, 1, 1, 1, 1, 1, 1, 1, 1, 1, 1, 1, 1, 1, 1, 1, 1, 1, 1, 1, 1, 1, 1, 1, 1, 1, 1, 1, 1, 1, 1, 1, 1, 1, 1, 1, 1, 1, 1, 1, 1, 1, 1, 1, 1, 1, 1, 1, 1, 1, 1, 1, 1, 1, 1, 1, 1, 1, 1, 1, 1, 1, 1, 1, 1, 1, 1, 1, 1, 1, 1, 1, 1, 1, 1, 1, 1, 1, 1, 1, 1, 1, 1, 1, 1, 1, 1, 1, 1, 1, 1, 1, 1, 1, 1, 1, 1, 1, 1, 1, 1, 1, 1, 1, 1, 1, 1, 1, 1, 1, 1, 1, 1, 1, 1, 1, 1, 1, 1, 1, 1, 1, 1, 1, 1, 1, 1, 1, 1, 1, 1, 1, 1, 1, 1, 1, 1, 1, 1, 1, 1, 1, 1, 1, 1, 1, 1, 1, 1, 1, 1, 1, 1, 1, 1, 1, 1, 1, 1, 1, 1, 1, 1, 1, 1, 1, 1, 1, 1, 1, 1, 1, 1, 1, 1, 1, 1, 1, 1, 1, 1, 1, 1, 1, 1, 1, 1, 1, 1, 1, 1, 1, 1, 1, 1, 1, 1, 1, 1, 1, 1, 1, 1, 1, 1, 1, 1, 1, 1, 1, 1, 1, 1, 1, 1, 1, 1, 1, 1, 1, 1, 1, 1, 1, 1, 1, 1, 1, 1, 1, 1, 1, 1, 1, 1, 1, 1, 1, 1, 1, 1, 1, 1, 1, 1, 1, 1, 1, 1, 1, 1, 1, 1, 1, 1, 1, 1, 1, 1, 1, 1, 1, 1, 1, 1, 1, 1, 1, 1, 1, 1, 1, 1, 1, 1, 1, 1, 1, 1, 1, 1, 1, 1, 1, 1, 1, 1, 1, 1, 1, 1, 1, 1, 1, 1, 1, 1, 1, 1, 1, 1, 1, 1, 1, 1, 1, 1, 1, 1, 1, 1, 1, 1, 1, 1, 1, 1, 1, 1, 1, 1, 1, 1, 1, 1, 1, 1, 1, 1, 1, 1, 1, 1, 1, 1, 1, 1, 1, 1, 1, 1, 1, 1, 1, 1, 1, 1, 1, 1, 1, 1, 1, 1, 1, 1, 1, 1, 1, 1, 1, 1, 1, 1]\n"
     ]
    }
   ],
   "execution_count": 74
  },
  {
   "metadata": {},
   "cell_type": "markdown",
   "source": [
    "Removing the 340 hubs increases the number of connected components from 78 to 374, which might appear as a significant increase. However, this growth is largely meaningless, as the newly disconnected components consist predominantly of isolated nodes or very small clusters of size 1 or 2.\n",
    "\n",
    "The size of the largest connected component decreases only slightly, from 6,720 to 6,075 nodes, retaining the vast majority of the network. This demonstrates that while hubs play a key role in connecting smaller peripheral components, the network’s core structure remains robust and largely unaffected by their removal."
   ],
   "id": "41d4e9feee4ca7c"
  },
  {
   "metadata": {},
   "cell_type": "code",
   "outputs": [],
   "execution_count": null,
   "source": "",
   "id": "5af27b200a6d370e"
  },
  {
   "metadata": {},
   "cell_type": "code",
   "outputs": [],
   "execution_count": null,
   "source": "",
   "id": "e4708bfee44b71d5"
  },
  {
   "metadata": {},
   "cell_type": "code",
   "outputs": [],
   "execution_count": null,
   "source": "",
   "id": "7008d093450a0816"
  },
  {
   "metadata": {},
   "cell_type": "markdown",
   "source": [
    "### Hub Analysis in the Twitch Network\n",
    "\n",
    "- **Hub Threshold**: Nodes with a degree of **108 or higher** are classified as hubs, representing the top **5% of nodes** in terms of connectivity.\n",
    "- **Number of Hubs**: A total of **340 hubs** were identified, showcasing the heterogeneous structure of the network, with a small fraction of nodes having significantly higher connectivity than the rest.\n",
    "- **Connected Component of Hubs**: All hubs belong to a **single connected component**, indicating a highly cohesive core structure within the network. This suggests that hubs play a critical role in maintaining network connectivity and facilitating communication between different regions of the network.\n",
    "\n",
    "Hubs are likely to act as bridges between communities and contribute to the robustness of the network. Further analysis will investigate their centrality and influence in the Twitch network."
   ],
   "id": "21f055c6f9e039e9"
  }
 ],
 "metadata": {
  "kernelspec": {
   "display_name": "Python 3",
   "language": "python",
   "name": "python3"
  },
  "language_info": {
   "codemirror_mode": {
    "name": "ipython",
    "version": 2
   },
   "file_extension": ".py",
   "mimetype": "text/x-python",
   "name": "python",
   "nbconvert_exporter": "python",
   "pygments_lexer": "ipython2",
   "version": "2.7.6"
  }
 },
 "nbformat": 4,
 "nbformat_minor": 5
}
